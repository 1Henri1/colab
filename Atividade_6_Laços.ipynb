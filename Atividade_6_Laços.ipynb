{
  "nbformat": 4,
  "nbformat_minor": 0,
  "metadata": {
    "colab": {
      "provenance": [],
      "include_colab_link": true
    },
    "kernelspec": {
      "name": "python3",
      "display_name": "Python 3"
    },
    "language_info": {
      "name": "python"
    }
  },
  "cells": [
    {
      "cell_type": "markdown",
      "metadata": {
        "id": "view-in-github",
        "colab_type": "text"
      },
      "source": [
        "<a href=\"https://colab.research.google.com/github/1Henri1/colab/blob/main/Atividade_6_La%C3%A7os.ipynb\" target=\"_parent\"><img src=\"https://colab.research.google.com/assets/colab-badge.svg\" alt=\"Open In Colab\"/></a>"
      ]
    },
    {
      "cell_type": "markdown",
      "source": [
        "### Bases Computacionais da Ciência - Raphael Y. de Camargo - 2024.2\n",
        "\n",
        "## Lista 6 - Entregar até o dia 21/08"
      ],
      "metadata": {
        "id": "nQ9ja00_pZR4"
      }
    },
    {
      "cell_type": "markdown",
      "source": [
        "### Problema 1: Fatorial de um Número\n",
        "\n",
        "Escreva um programa que lê um número inteiro positivo e calcula o seu fatorial usando um laço for. Se o número digitado for negativo, ele deve imprimir \"Número inválido\"."
      ],
      "metadata": {
        "id": "96Lrn3W9ws-O"
      }
    },
    {
      "cell_type": "code",
      "source": [
        "x = int(input(\"Digite um número positivo não decimal: \"))\n",
        "\n",
        "if x < 0:\n",
        "    print(\"Número inválido\")\n",
        "else:\n",
        "    fatorial = 1\n",
        "    for i in range(0, x):\n",
        "        fatorial = fatorial*(i+1)\n",
        "    print(\"O fatorial de\",x, \"é\", fatorial)"
      ],
      "metadata": {
        "id": "PlNzPG_Yw97z",
        "colab": {
          "base_uri": "https://localhost:8080/"
        },
        "outputId": "cb1e01ea-d92a-408f-8d86-641e2bb94502"
      },
      "execution_count": 7,
      "outputs": [
        {
          "output_type": "stream",
          "name": "stdout",
          "text": [
            "Digite um número positivo não decimal: 1\n",
            "O fatorial de 1 é 1\n"
          ]
        }
      ]
    },
    {
      "cell_type": "markdown",
      "source": [
        "### Problema 2: Média de Números Positivos\n",
        "\n",
        "Faça um programa que solicitas números inteiros positivos um de cada vez, e imprime a média dos números já digitados. O programa deve terminar quando um número negativo for inserido. Utilize um laço `while`.\n",
        "\n",
        "**Dica:** Armazene a soma dos números já digitados em uma variável `soma`. Assim, é sempre possível calcular a média dividindo `soma` pela quantidade de números já digitados."
      ],
      "metadata": {
        "id": "WkcI15AO5-Jj"
      }
    },
    {
      "cell_type": "code",
      "source": [
        "y = 1\n",
        "sum = 0\n",
        "x = 0\n",
        "while x>=0:\n",
        "  x = int(input(\"digite um numero inteiro positivo: \"))\n",
        "  if x>= 0:\n",
        "    sum = sum+x\n",
        "    med = sum/y\n",
        "    y = y+1\n",
        "    print(\"A média dos números digitados é\", med)"
      ],
      "metadata": {
        "id": "qNgmwJSw5-hZ",
        "colab": {
          "base_uri": "https://localhost:8080/"
        },
        "outputId": "b8ff9073-afcb-42c3-a13a-19659b2a341e"
      },
      "execution_count": 13,
      "outputs": [
        {
          "name": "stdout",
          "output_type": "stream",
          "text": [
            "digite um numero inteiro positivo: 5\n",
            "A média dos números digitados é 5.0\n",
            "digite um numero inteiro positivo: 5\n",
            "A média dos números digitados é 5.0\n",
            "digite um numero inteiro positivo: 10\n",
            "A média dos números digitados é 6.666666666666667\n",
            "digite um numero inteiro positivo: 10\n",
            "A média dos números digitados é 7.5\n",
            "digite um numero inteiro positivo: -1\n"
          ]
        }
      ]
    },
    {
      "cell_type": "markdown",
      "source": [
        "### Problema 3: Simulação de Crescimento Populacional\n",
        "\n",
        "Uma cidade atualmente possui uma população de 50.000 habitantes e está crescendo a uma taxa de 2% ao ano. Escreva um programa que simule o crescimento populacional desta cidade ano a ano até que a população atinja 100.000 habitantes. O programa deve gerar um gráfico com a população a cada ano e imprimir quantos anos serão necessários para que a população atinja o objetivo.\n",
        "\n",
        "Dica: Use um laço while para iterar até que a população atinja 100.000 habitantes. Calcule o crescimento anual multiplicando a população pelo fator de crescimento."
      ],
      "metadata": {
        "id": "ZSXN3CfT2ku3"
      }
    },
    {
      "cell_type": "code",
      "source": [
        "import matplotlib.pyplot as plt\n",
        "import numpy as np\n",
        "hab = 50000\n",
        "anos = 0\n",
        "while hab<=100000:\n",
        "    hab = hab*1.02\n",
        "    anos = anos+1\n",
        "anosfi = np.arange(1,anos)\n",
        "habfi = 50000*(1+0.02)**anosfi\n",
        "plt.plot(anosfi,habfi, \".-\")\n",
        "plt.xlabel(\"Anos\")\n",
        "plt.ylabel(\"Habitantes\")\n",
        "plt.show()\n",
        "print(\"Serão necessários\", anos, \"anos para que a população atinja 100.000 habitantes.\")"
      ],
      "metadata": {
        "id": "Aw5u1qyk2kBw",
        "colab": {
          "base_uri": "https://localhost:8080/",
          "height": 466
        },
        "outputId": "7ffc5dc9-3cfd-4dbe-d50f-ac85cb66f04f"
      },
      "execution_count": 28,
      "outputs": [
        {
          "output_type": "display_data",
          "data": {
            "text/plain": [
              "<Figure size 640x480 with 1 Axes>"
            ],
            "image/png": "[encoded data removed]"
          },
          "metadata": {}
        },
        {
          "output_type": "stream",
          "name": "stdout",
          "text": [
            "Serão necessários 36 anos para que a população atinja 100.000 habitantes.\n"
          ]
        }
      ]
    },
    {
      "cell_type": "markdown",
      "source": [
        "### Problema 4\n",
        "\n",
        "Você está fazendo um programa para uma loja de veículos para cálculo de financiamento.\n",
        "\n",
        "Crie um programa que solicita ao usuário o valor da entrada, a parcela paga mensalmente, o valor do bem e os juros (em \\%).\n",
        "\n",
        "Ele deve imprimir qual o tempo para quitar o veículo (em meses), o valor total pago, e o valor da última parcela (que em geral será um pouco menor).\n",
        "\n",
        "**Dica:** Para cada mês, subtraia o valor pago da dívida e, em seguida, acrescente o juros ao valor da dívida."
      ],
      "metadata": {
        "id": "CznfUhIl5flN"
      }
    },
    {
      "cell_type": "code",
      "source": [
        "entrada = float(input(\"Digite o valor da entrada: \"))\n",
        "parcela = float(input(\"Digite o valor da parcela: \"))\n",
        "veiculo = float(input(\"Digite o valor do veiculo: \"))\n",
        "juros = float(input(\"Digite a porcentagem dos juros: \"))\n",
        "valorapg = veiculo-entrada\n",
        "juros = juros/100\n",
        "tempo = 0\n",
        "while valorapg>0:\n",
        "    valorapg = valorapg-parcela\n",
        "    valorapg = valorapg*(1+juros)\n",
        "    tempo = tempo+1\n",
        "ultimaparcela = valorapg+parcela\n",
        "print(\"O tempo para quitar o veículo é de\", tempo, \"meses.\")\n",
        "print(\"a ultima parcela foi %.2f\"%ultimaparcela)"
      ],
      "metadata": {
        "id": "WM7HxAM-5Ceg",
        "colab": {
          "base_uri": "https://localhost:8080/"
        },
        "outputId": "208b4c08-2bc2-499b-8043-a29a8a65b4f6"
      },
      "execution_count": 33,
      "outputs": [
        {
          "output_type": "stream",
          "name": "stdout",
          "text": [
            "Digite o valor da entrada: 1000\n",
            "Digite o valor da parcela: 1000\n",
            "Digite o valor do veiculo: 2000\n",
            "Digite a porcentagem dos juros: 50\n",
            "O tempo para quitar o veículo é de 1 meses.\n",
            "a ultima parcela foi 1000.00\n"
          ]
        }
      ]
    },
    {
      "cell_type": "markdown",
      "source": [
        "### Problema 5\n",
        "\n",
        "Você está criando um software para um caixa eletrônico. O caixa pode dispensar notas de R\\$100, R\\$50, R\\$10, R\\$5 e R\\$1. Crie um programa em Python que solicita ao usuário o valor que ele quer sacar e calcula a quantidade de cada nota necessária para um determinado valor de saque. A função deve minimizar o número total de notas dispensadas e devolver o número de notas de cada tipo, ordenada da maior para a menor. Considere que o valor do saque será sempre um número inteiro.\n",
        "\n",
        "Dica: Use um laço while e, em cada iteração, selecione a nota de maior valor que seja menor que o valor a sacar. Em seguidam, subtraia o valor da nota do valor a sacar."
      ],
      "metadata": {
        "id": "-4cZjqEdG0Y-"
      }
    },
    {
      "cell_type": "code",
      "source": [
        "saque = int(input(\"Digite o valor que quer sacar: \"))\n",
        "notas100 = 0\n",
        "notas50 = 0\n",
        "notas10 = 0\n",
        "notas5 = 0\n",
        "notas1 = 0\n",
        "while saque>0:\n",
        "    if saque >=100:\n",
        "      notas100 = notas100+1\n",
        "      saque = saque-100\n",
        "    elif saque >=50:\n",
        "      notas50 = notas50+1\n",
        "      saque = saque-50\n",
        "    elif saque >=10:\n",
        "      notas10 = notas10+1\n",
        "      saque = saque-10\n",
        "    else:\n",
        "      notas1 = notas1+1\n",
        "      saque = saque-1\n",
        "print(\"Você sacou:\")\n",
        "print(notas100,\"Notas de R$100\")\n",
        "print(notas50,\"Notas de R$50\")\n",
        "print(notas10,\"Notas de R$10\")\n",
        "print(notas1,\"Notas de R$1\")"
      ],
      "metadata": {
        "id": "dztWBNywI6ey",
        "colab": {
          "base_uri": "https://localhost:8080/"
        },
        "outputId": "7a896ee5-d6ba-4df5-ec58-890e8feae474"
      },
      "execution_count": 39,
      "outputs": [
        {
          "output_type": "stream",
          "name": "stdout",
          "text": [
            "Digite o valor que quer sacar: 322\n",
            "Você sacou:\n",
            "3 Notas de R$100\n",
            "0 Notas de R$50\n",
            "2 Notas de R$10\n",
            "2 Notas de R$1\n"
          ]
        }
      ]
    }
  ]
}
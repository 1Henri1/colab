{
  "nbformat": 4,
  "nbformat_minor": 0,
  "metadata": {
    "colab": {
      "provenance": [],
      "include_colab_link": true
    },
    "kernelspec": {
      "name": "python3",
      "display_name": "Python 3"
    },
    "language_info": {
      "name": "python"
    }
  },
  "cells": [
    {
      "cell_type": "markdown",
      "metadata": {
        "id": "view-in-github",
        "colab_type": "text"
      },
      "source": [
        "<a href=\"https://colab.research.google.com/github/1Henri1/colab/blob/main/C%C3%B3pia_de_Atividade_3_Bases_de_Dados_e_Tabelas.ipynb\" target=\"_parent\"><img src=\"https://colab.research.google.com/assets/colab-badge.svg\" alt=\"Open In Colab\"/></a>"
      ]
    },
    {
      "cell_type": "markdown",
      "source": [
        "### Bases Computacionais da Ciência - Raphael Y. de Camargo - 2024.2\n",
        "\n",
        "## Lista 3 - Entregar até o dia 24/07"
      ],
      "metadata": {
        "id": "nQ9ja00_pZR4"
      }
    },
    {
      "cell_type": "markdown",
      "source": [
        "Vamos criar os problemas baseados no arquivo `base_dados_esportes.csv` fornecido pelo Moodle. Para todos os problemas, você deverá primeiro fazer o upload do arquivo e leitura em um dataframe, conforme visto em aula."
      ],
      "metadata": {
        "id": "CbCmfGpypaeI"
      }
    },
    {
      "cell_type": "markdown",
      "source": [
        "### Problema 1: Filtro de Jogadores por Time e Seleção de colunas\n",
        "Filtre e exiba apenas as colunas de nome, time e pontos por jogo dos jogadores que pertencem ao \"Time_1\"."
      ],
      "metadata": {
        "id": "96Lrn3W9ws-O"
      }
    },
    {
      "cell_type": "markdown",
      "source": [],
      "metadata": {
        "id": "hMY78VPOv1cY"
      }
    },
    {
      "cell_type": "code",
      "source": [
        "import pandas as pd\n",
        "df = pd.read_csv(\"https://drive.google.com/u/3/uc?id=1ilNCHv5ARo_noznV_EWsOr8FaL1rO5d7&export=download\")\n",
        "df=df.query(\"Time == 'Time_1'\")\n",
        "df=df[[\"Jogador\",\"Time\",\"Pontos por Jogo\"]]\n",
        "df"
      ],
      "metadata": {
        "id": "PlNzPG_Yw97z",
        "colab": {
          "base_uri": "https://localhost:8080/",
          "height": 363
        },
        "outputId": "aaadd0ba-1154-4554-e7d5-e7203e16167e"
      },
      "execution_count": null,
      "outputs": [
        {
          "output_type": "execute_result",
          "data": {
            "text/plain": [
              "       Jogador    Time  Pontos por Jogo\n",
              "0    Jogador_1  Time_1             8.90\n",
              "5    Jogador_6  Time_1             1.76\n",
              "10  Jogador_11  Time_1             7.79\n",
              "15  Jogador_16  Time_1            11.79\n",
              "20  Jogador_21  Time_1            16.52\n",
              "25  Jogador_26  Time_1            21.36\n",
              "30  Jogador_31  Time_1            12.49\n",
              "35  Jogador_36  Time_1            23.73\n",
              "40  Jogador_41  Time_1            24.18\n",
              "45  Jogador_46  Time_1            31.15"
            ],
            "text/html": [
              "\n",
              "  <div id=\"df-d99b0058-3c71-4f80-b01a-f5891cede206\" class=\"colab-df-container\">\n",
              "    <div>\n",
              "<style scoped>\n",
              "    .dataframe tbody tr th:only-of-type {\n",
              "        vertical-align: middle;\n",
              "    }\n",
              "\n",
              "    .dataframe tbody tr th {\n",
              "        vertical-align: top;\n",
              "    }\n",
              "\n",
              "    .dataframe thead th {\n",
              "        text-align: right;\n",
              "    }\n",
              "</style>\n",
              "<table border=\"1\" class=\"dataframe\">\n",
              "  <thead>\n",
              "    <tr style=\"text-align: right;\">\n",
              "      <th></th>\n",
              "      <th>Jogador</th>\n",
              "      <th>Time</th>\n",
              "      <th>Pontos por Jogo</th>\n",
              "    </tr>\n",
              "  </thead>\n",
              "  <tbody>\n",
              "    <tr>\n",
              "      <th>0</th>\n",
              "      <td>Jogador_1</td>\n",
              "      <td>Time_1</td>\n",
              "      <td>8.90</td>\n",
              "    </tr>\n",
              "    <tr>\n",
              "      <th>5</th>\n",
              "      <td>Jogador_6</td>\n",
              "      <td>Time_1</td>\n",
              "      <td>1.76</td>\n",
              "    </tr>\n",
              "    <tr>\n",
              "      <th>10</th>\n",
              "      <td>Jogador_11</td>\n",
              "      <td>Time_1</td>\n",
              "      <td>7.79</td>\n",
              "    </tr>\n",
              "    <tr>\n",
              "      <th>15</th>\n",
              "      <td>Jogador_16</td>\n",
              "      <td>Time_1</td>\n",
              "      <td>11.79</td>\n",
              "    </tr>\n",
              "    <tr>\n",
              "      <th>20</th>\n",
              "      <td>Jogador_21</td>\n",
              "      <td>Time_1</td>\n",
              "      <td>16.52</td>\n",
              "    </tr>\n",
              "    <tr>\n",
              "      <th>25</th>\n",
              "      <td>Jogador_26</td>\n",
              "      <td>Time_1</td>\n",
              "      <td>21.36</td>\n",
              "    </tr>\n",
              "    <tr>\n",
              "      <th>30</th>\n",
              "      <td>Jogador_31</td>\n",
              "      <td>Time_1</td>\n",
              "      <td>12.49</td>\n",
              "    </tr>\n",
              "    <tr>\n",
              "      <th>35</th>\n",
              "      <td>Jogador_36</td>\n",
              "      <td>Time_1</td>\n",
              "      <td>23.73</td>\n",
              "    </tr>\n",
              "    <tr>\n",
              "      <th>40</th>\n",
              "      <td>Jogador_41</td>\n",
              "      <td>Time_1</td>\n",
              "      <td>24.18</td>\n",
              "    </tr>\n",
              "    <tr>\n",
              "      <th>45</th>\n",
              "      <td>Jogador_46</td>\n",
              "      <td>Time_1</td>\n",
              "      <td>31.15</td>\n",
              "    </tr>\n",
              "  </tbody>\n",
              "</table>\n",
              "</div>\n",
              "    <div class=\"colab-df-buttons\">\n",
              "\n",
              "  <div class=\"colab-df-container\">\n",
              "    <button class=\"colab-df-convert\" onclick=\"convertToInteractive('df-d99b0058-3c71-4f80-b01a-f5891cede206')\"\n",
              "            title=\"Convert this dataframe to an interactive table.\"\n",
              "            style=\"display:none;\">\n",
              "\n",
              "  <svg xmlns=\"http://www.w3.org/2000/svg\" height=\"24px\" viewBox=\"0 -960 960 960\">\n",
              "    <path d=\"M120-120v-720h720v720H120Zm60-500h600v-160H180v160Zm220 220h160v-160H400v160Zm0 220h160v-160H400v160ZM180-400h160v-160H180v160Zm440 0h160v-160H620v160ZM180-180h160v-160H180v160Zm440 0h160v-160H620v160Z\"/>\n",
              "  </svg>\n",
              "    </button>\n",
              "\n",
              "  <style>\n",
              "    .colab-df-container {\n",
              "      display:flex;\n",
              "      gap: 12px;\n",
              "    }\n",
              "\n",
              "    .colab-df-convert {\n",
              "      background-color: #E8F0FE;\n",
              "      border: none;\n",
              "      border-radius: 50%;\n",
              "      cursor: pointer;\n",
              "      display: none;\n",
              "      fill: #1967D2;\n",
              "      height: 32px;\n",
              "      padding: 0 0 0 0;\n",
              "      width: 32px;\n",
              "    }\n",
              "\n",
              "    .colab-df-convert:hover {\n",
              "      background-color: #E2EBFA;\n",
              "      box-shadow: 0px 1px 2px rgba(60, 64, 67, 0.3), 0px 1px 3px 1px rgba(60, 64, 67, 0.15);\n",
              "      fill: #174EA6;\n",
              "    }\n",
              "\n",
              "    .colab-df-buttons div {\n",
              "      margin-bottom: 4px;\n",
              "    }\n",
              "\n",
              "    [theme=dark] .colab-df-convert {\n",
              "      background-color: #3B4455;\n",
              "      fill: #D2E3FC;\n",
              "    }\n",
              "\n",
              "    [theme=dark] .colab-df-convert:hover {\n",
              "      background-color: #434B5C;\n",
              "      box-shadow: 0px 1px 3px 1px rgba(0, 0, 0, 0.15);\n",
              "      filter: drop-shadow(0px 1px 2px rgba(0, 0, 0, 0.3));\n",
              "      fill: #FFFFFF;\n",
              "    }\n",
              "  </style>\n",
              "\n",
              "    <script>\n",
              "      const buttonEl =\n",
              "        document.querySelector('#df-d99b0058-3c71-4f80-b01a-f5891cede206 button.colab-df-convert');\n",
              "      buttonEl.style.display =\n",
              "        google.colab.kernel.accessAllowed ? 'block' : 'none';\n",
              "\n",
              "      async function convertToInteractive(key) {\n",
              "        const element = document.querySelector('#df-d99b0058-3c71-4f80-b01a-f5891cede206');\n",
              "        const dataTable =\n",
              "          await google.colab.kernel.invokeFunction('convertToInteractive',\n",
              "                                                    [key], {});\n",
              "        if (!dataTable) return;\n",
              "\n",
              "        const docLinkHtml = 'Like what you see? Visit the ' +\n",
              "          '<a target=\"_blank\" href=https://colab.research.google.com/notebooks/data_table.ipynb>data table notebook</a>'\n",
              "          + ' to learn more about interactive tables.';\n",
              "        element.innerHTML = '';\n",
              "        dataTable['output_type'] = 'display_data';\n",
              "        await google.colab.output.renderOutput(dataTable, element);\n",
              "        const docLink = document.createElement('div');\n",
              "        docLink.innerHTML = docLinkHtml;\n",
              "        element.appendChild(docLink);\n",
              "      }\n",
              "    </script>\n",
              "  </div>\n",
              "\n",
              "\n",
              "<div id=\"df-547eb540-3c3b-47d3-b30b-e8258efce262\">\n",
              "  <button class=\"colab-df-quickchart\" onclick=\"quickchart('df-547eb540-3c3b-47d3-b30b-e8258efce262')\"\n",
              "            title=\"Suggest charts\"\n",
              "            style=\"display:none;\">\n",
              "\n",
              "<svg xmlns=\"http://www.w3.org/2000/svg\" height=\"24px\"viewBox=\"0 0 24 24\"\n",
              "     width=\"24px\">\n",
              "    <g>\n",
              "        <path d=\"M19 3H5c-1.1 0-2 .9-2 2v14c0 1.1.9 2 2 2h14c1.1 0 2-.9 2-2V5c0-1.1-.9-2-2-2zM9 17H7v-7h2v7zm4 0h-2V7h2v10zm4 0h-2v-4h2v4z\"/>\n",
              "    </g>\n",
              "</svg>\n",
              "  </button>\n",
              "\n",
              "<style>\n",
              "  .colab-df-quickchart {\n",
              "      --bg-color: #E8F0FE;\n",
              "      --fill-color: #1967D2;\n",
              "      --hover-bg-color: #E2EBFA;\n",
              "      --hover-fill-color: #174EA6;\n",
              "      --disabled-fill-color: #AAA;\n",
              "      --disabled-bg-color: #DDD;\n",
              "  }\n",
              "\n",
              "  [theme=dark] .colab-df-quickchart {\n",
              "      --bg-color: #3B4455;\n",
              "      --fill-color: #D2E3FC;\n",
              "      --hover-bg-color: #434B5C;\n",
              "      --hover-fill-color: #FFFFFF;\n",
              "      --disabled-bg-color: #3B4455;\n",
              "      --disabled-fill-color: #666;\n",
              "  }\n",
              "\n",
              "  .colab-df-quickchart {\n",
              "    background-color: var(--bg-color);\n",
              "    border: none;\n",
              "    border-radius: 50%;\n",
              "    cursor: pointer;\n",
              "    display: none;\n",
              "    fill: var(--fill-color);\n",
              "    height: 32px;\n",
              "    padding: 0;\n",
              "    width: 32px;\n",
              "  }\n",
              "\n",
              "  .colab-df-quickchart:hover {\n",
              "    background-color: var(--hover-bg-color);\n",
              "    box-shadow: 0 1px 2px rgba(60, 64, 67, 0.3), 0 1px 3px 1px rgba(60, 64, 67, 0.15);\n",
              "    fill: var(--button-hover-fill-color);\n",
              "  }\n",
              "\n",
              "  .colab-df-quickchart-complete:disabled,\n",
              "  .colab-df-quickchart-complete:disabled:hover {\n",
              "    background-color: var(--disabled-bg-color);\n",
              "    fill: var(--disabled-fill-color);\n",
              "    box-shadow: none;\n",
              "  }\n",
              "\n",
              "  .colab-df-spinner {\n",
              "    border: 2px solid var(--fill-color);\n",
              "    border-color: transparent;\n",
              "    border-bottom-color: var(--fill-color);\n",
              "    animation:\n",
              "      spin 1s steps(1) infinite;\n",
              "  }\n",
              "\n",
              "  @keyframes spin {\n",
              "    0% {\n",
              "      border-color: transparent;\n",
              "      border-bottom-color: var(--fill-color);\n",
              "      border-left-color: var(--fill-color);\n",
              "    }\n",
              "    20% {\n",
              "      border-color: transparent;\n",
              "      border-left-color: var(--fill-color);\n",
              "      border-top-color: var(--fill-color);\n",
              "    }\n",
              "    30% {\n",
              "      border-color: transparent;\n",
              "      border-left-color: var(--fill-color);\n",
              "      border-top-color: var(--fill-color);\n",
              "      border-right-color: var(--fill-color);\n",
              "    }\n",
              "    40% {\n",
              "      border-color: transparent;\n",
              "      border-right-color: var(--fill-color);\n",
              "      border-top-color: var(--fill-color);\n",
              "    }\n",
              "    60% {\n",
              "      border-color: transparent;\n",
              "      border-right-color: var(--fill-color);\n",
              "    }\n",
              "    80% {\n",
              "      border-color: transparent;\n",
              "      border-right-color: var(--fill-color);\n",
              "      border-bottom-color: var(--fill-color);\n",
              "    }\n",
              "    90% {\n",
              "      border-color: transparent;\n",
              "      border-bottom-color: var(--fill-color);\n",
              "    }\n",
              "  }\n",
              "</style>\n",
              "\n",
              "  <script>\n",
              "    async function quickchart(key) {\n",
              "      const quickchartButtonEl =\n",
              "        document.querySelector('#' + key + ' button');\n",
              "      quickchartButtonEl.disabled = true;  // To prevent multiple clicks.\n",
              "      quickchartButtonEl.classList.add('colab-df-spinner');\n",
              "      try {\n",
              "        const charts = await google.colab.kernel.invokeFunction(\n",
              "            'suggestCharts', [key], {});\n",
              "      } catch (error) {\n",
              "        console.error('Error during call to suggestCharts:', error);\n",
              "      }\n",
              "      quickchartButtonEl.classList.remove('colab-df-spinner');\n",
              "      quickchartButtonEl.classList.add('colab-df-quickchart-complete');\n",
              "    }\n",
              "    (() => {\n",
              "      let quickchartButtonEl =\n",
              "        document.querySelector('#df-547eb540-3c3b-47d3-b30b-e8258efce262 button');\n",
              "      quickchartButtonEl.style.display =\n",
              "        google.colab.kernel.accessAllowed ? 'block' : 'none';\n",
              "    })();\n",
              "  </script>\n",
              "</div>\n",
              "\n",
              "  <div id=\"id_412c81f1-a0a1-4b78-82a8-dbae5fd208f6\">\n",
              "    <style>\n",
              "      .colab-df-generate {\n",
              "        background-color: #E8F0FE;\n",
              "        border: none;\n",
              "        border-radius: 50%;\n",
              "        cursor: pointer;\n",
              "        display: none;\n",
              "        fill: #1967D2;\n",
              "        height: 32px;\n",
              "        padding: 0 0 0 0;\n",
              "        width: 32px;\n",
              "      }\n",
              "\n",
              "      .colab-df-generate:hover {\n",
              "        background-color: #E2EBFA;\n",
              "        box-shadow: 0px 1px 2px rgba(60, 64, 67, 0.3), 0px 1px 3px 1px rgba(60, 64, 67, 0.15);\n",
              "        fill: #174EA6;\n",
              "      }\n",
              "\n",
              "      [theme=dark] .colab-df-generate {\n",
              "        background-color: #3B4455;\n",
              "        fill: #D2E3FC;\n",
              "      }\n",
              "\n",
              "      [theme=dark] .colab-df-generate:hover {\n",
              "        background-color: #434B5C;\n",
              "        box-shadow: 0px 1px 3px 1px rgba(0, 0, 0, 0.15);\n",
              "        filter: drop-shadow(0px 1px 2px rgba(0, 0, 0, 0.3));\n",
              "        fill: #FFFFFF;\n",
              "      }\n",
              "    </style>\n",
              "    <button class=\"colab-df-generate\" onclick=\"generateWithVariable('df')\"\n",
              "            title=\"Generate code using this dataframe.\"\n",
              "            style=\"display:none;\">\n",
              "\n",
              "  <svg xmlns=\"http://www.w3.org/2000/svg\" height=\"24px\"viewBox=\"0 0 24 24\"\n",
              "       width=\"24px\">\n",
              "    <path d=\"M7,19H8.4L18.45,9,17,7.55,7,17.6ZM5,21V16.75L18.45,3.32a2,2,0,0,1,2.83,0l1.4,1.43a1.91,1.91,0,0,1,.58,1.4,1.91,1.91,0,0,1-.58,1.4L9.25,21ZM18.45,9,17,7.55Zm-12,3A5.31,5.31,0,0,0,4.9,8.1,5.31,5.31,0,0,0,1,6.5,5.31,5.31,0,0,0,4.9,4.9,5.31,5.31,0,0,0,6.5,1,5.31,5.31,0,0,0,8.1,4.9,5.31,5.31,0,0,0,12,6.5,5.46,5.46,0,0,0,6.5,12Z\"/>\n",
              "  </svg>\n",
              "    </button>\n",
              "    <script>\n",
              "      (() => {\n",
              "      const buttonEl =\n",
              "        document.querySelector('#id_412c81f1-a0a1-4b78-82a8-dbae5fd208f6 button.colab-df-generate');\n",
              "      buttonEl.style.display =\n",
              "        google.colab.kernel.accessAllowed ? 'block' : 'none';\n",
              "\n",
              "      buttonEl.onclick = () => {\n",
              "        google.colab.notebook.generateWithVariable('df');\n",
              "      }\n",
              "      })();\n",
              "    </script>\n",
              "  </div>\n",
              "\n",
              "    </div>\n",
              "  </div>\n"
            ],
            "application/vnd.google.colaboratory.intrinsic+json": {
              "type": "dataframe",
              "variable_name": "df",
              "summary": "{\n  \"name\": \"df\",\n  \"rows\": 10,\n  \"fields\": [\n    {\n      \"column\": \"Jogador\",\n      \"properties\": {\n        \"dtype\": \"string\",\n        \"num_unique_values\": 10,\n        \"samples\": [\n          \"Jogador_41\",\n          \"Jogador_6\",\n          \"Jogador_26\"\n        ],\n        \"semantic_type\": \"\",\n        \"description\": \"\"\n      }\n    },\n    {\n      \"column\": \"Time\",\n      \"properties\": {\n        \"dtype\": \"category\",\n        \"num_unique_values\": 1,\n        \"samples\": [\n          \"Time_1\"\n        ],\n        \"semantic_type\": \"\",\n        \"description\": \"\"\n      }\n    },\n    {\n      \"column\": \"Pontos por Jogo\",\n      \"properties\": {\n        \"dtype\": \"number\",\n        \"std\": 9.041956585213672,\n        \"min\": 1.76,\n        \"max\": 31.15,\n        \"num_unique_values\": 10,\n        \"samples\": [\n          24.18\n        ],\n        \"semantic_type\": \"\",\n        \"description\": \"\"\n      }\n    }\n  ]\n}"
            }
          },
          "metadata": {},
          "execution_count": 19
        }
      ]
    },
    {
      "cell_type": "markdown",
      "source": [
        "### Problema 2: Histogramas\n",
        "Gere três histogramas contendo a distribuição de pontos por jogo, de assistências por jogo e de rebotes por jogo. Coloque legendas adequadas nos eixos dos histogramas."
      ],
      "metadata": {
        "id": "HX0ThhDjwvrY"
      }
    },
    {
      "cell_type": "code",
      "source": [
        "import pandas as pd\n",
        "df = pd.read_csv(\"https://drive.google.com/u/3/uc?id=1ilNCHv5ARo_noznV_EWsOr8FaL1rO5d7&export=download\")\n",
        "df.plot.hist(y=\"Pontos por Jogo\",ylabel=\"quantidade\",bins=50)\n",
        "df.plot.hist(y=\"Assistências por Jogo\",ylabel=\"quantidade\",bins=50)\n",
        "df.plot.hist(y=\"Rebotes por Jogo\",ylabel=\"quantidade\", bins=50)\n",
        "\n",
        "\n"
      ],
      "metadata": {
        "id": "2sIdV9hMw9ZQ",
        "outputId": "b300437d-abc0-49f3-d2e7-be8e0451a048",
        "colab": {
          "base_uri": "https://localhost:8080/",
          "height": 1000
        }
      },
      "execution_count": null,
      "outputs": [
        {
          "output_type": "execute_result",
          "data": {
            "text/plain": [
              "<Axes: ylabel='quantidade'>"
            ]
          },
          "metadata": {},
          "execution_count": 11
        },
        {
          "output_type": "display_data",
          "data": {
            "text/plain": [
              "<Figure size 640x480 with 1 Axes>"
            ],
            "image/png": "[encoded data removed]"
          },
          "metadata": {}
        },
        {
          "output_type": "display_data",
          "data": {
            "text/plain": [
              "<Figure size 640x480 with 1 Axes>"
            ],
            "image/png": "[encoded data removed]"
          },
          "metadata": {}
        },
        {
          "output_type": "display_data",
          "data": {
            "text/plain": [
              "<Figure size 640x480 with 1 Axes>"
            ],
            "image/png": "[encoded data removed]"
          },
          "metadata": {}
        }
      ]
    },
    {
      "cell_type": "markdown",
      "source": [
        "### Problema 3: Gráfico de Dispersão\n",
        "Crie um gráfico de dispersão para analisar a relação entre pontos por jogo e valor de mercado dos jogadores. Analise se há uma relação aparente entre essas duas variáveis."
      ],
      "metadata": {
        "id": "q3zQtvfiwwCv"
      }
    },
    {
      "cell_type": "code",
      "source": [
        "import pandas as pd\n",
        "import matplotlib.pyplot as plt\n",
        "%matplotlib inline\n",
        "df = pd.read_csv(\"https://drive.google.com/u/3/uc?id=1ilNCHv5ARo_noznV_EWsOr8FaL1rO5d7&export=download\")\n",
        "x = df['Pontos por Jogo']\n",
        "y = df['Valor de Mercado (USD)']\n",
        "plt.plot(x,y,'o')\n",
        "#maiores pontuações por jogo tendem a ter maior valor de mercado"
      ],
      "metadata": {
        "id": "_ADM00kuw856",
        "outputId": "02102891-6bd2-4edf-839a-7e259ebeeede",
        "colab": {
          "base_uri": "https://localhost:8080/",
          "height": 447
        }
      },
      "execution_count": null,
      "outputs": [
        {
          "output_type": "execute_result",
          "data": {
            "text/plain": [
              "[<matplotlib.lines.Line2D at 0x7dacb133bb20>]"
            ]
          },
          "metadata": {},
          "execution_count": 12
        },
        {
          "output_type": "display_data",
          "data": {
            "text/plain": [
              "<Figure size 640x480 with 1 Axes>"
            ],
            "image/png": "[encoded data removed]"
          },
          "metadata": {}
        }
      ]
    },
    {
      "cell_type": "markdown",
      "source": [
        "### Problema 4: Estatíticas dos times\n",
        "Para cada time da competição, imprima quais os valores *médio* e *máximo* de pontos, assistências e rebotes por jogo, considerando todos os jogadores daquele time.\n",
        "\n",
        "*Dica:* Use of comando `groupby`\n"
      ],
      "metadata": {
        "id": "Lm7IMshhwwTD"
      }
    },
    {
      "cell_type": "code",
      "source": [
        "import pandas as pd\n",
        "df = pd.read_csv(\"https://drive.google.com/u/3/uc?id=1ilNCHv5ARo_noznV_EWsOr8FaL1rO5d7&export=download\")\n",
        "print(\"Média de pontos por jogo:\\n\",df.groupby(\"Time\")[['Pontos por Jogo','Assistências por Jogo', 'Rebotes por Jogo']].mean())\n",
        "print(\"Maior ponto por jogo:\\n\",df.groupby(\"Time\")[['Pontos por Jogo','Assistências por Jogo', 'Rebotes por Jogo']].max())"
      ],
      "metadata": {
        "id": "h1i-tix4w7rd",
        "outputId": "aa181521-ed74-4a0e-def8-15cdfeb96462",
        "colab": {
          "base_uri": "https://localhost:8080/"
        }
      },
      "execution_count": null,
      "outputs": [
        {
          "output_type": "stream",
          "name": "stdout",
          "text": [
            "Média de pontos por jogo:\n",
            "         Pontos por Jogo  Assistências por Jogo  Rebotes por Jogo\n",
            "Time                                                            \n",
            "Time_1           15.967                  4.731             9.900\n",
            "Time_2           15.228                  4.790             9.457\n",
            "Time_3           19.920                  6.356             9.679\n",
            "Time_4           18.928                  4.992             9.020\n",
            "Time_5           19.472                  5.202            11.094\n",
            "Maior ponto por jogo:\n",
            "         Pontos por Jogo  Assistências por Jogo  Rebotes por Jogo\n",
            "Time                                                            \n",
            "Time_1            31.15                  10.18             15.96\n",
            "Time_2            26.68                   9.32             16.22\n",
            "Time_3            34.33                  10.77             17.82\n",
            "Time_4            33.11                   9.66             13.85\n",
            "Time_5            33.92                  10.69             18.51\n"
          ]
        }
      ]
    },
    {
      "cell_type": "markdown",
      "source": [
        "### Problema 5: Estatíticas dos times\n",
        "Calcule qual o valor total de mercado dos jogadores de cada time. Em seguida, imprima o nome dos times e valor total de mercado em ordem decrescente de valor de mercado."
      ],
      "metadata": {
        "id": "GD1atapnwwoD"
      }
    },
    {
      "cell_type": "code",
      "source": [
        "import pandas as pd\n",
        "df = pd.read_csv(\"https://drive.google.com/u/3/uc?id=1ilNCHv5ARo_noznV_EWsOr8FaL1rO5d7&export=download\")\n",
        "df1 = df.query(\"Time == 'Time_1'\")\n",
        "df1 = df1[\"Valor de Mercado (USD)\"].sum()\n",
        "df2 = df.query(\"Time == 'Time_2'\")\n",
        "df2 = df2[\"Valor de Mercado (USD)\"].sum()\n",
        "df3 = df.query(\"Time == 'Time_3'\")\n",
        "df3 = df3[\"Valor de Mercado (USD)\"].sum()\n",
        "df4 = df.query(\"Time == 'Time_4'\")\n",
        "df4 = df4[\"Valor de Mercado (USD)\"].sum()\n",
        "df5 = df.query(\"Time == 'Time_5'\")\n",
        "df5 = df5[\"Valor de Mercado (USD)\"].sum()\n",
        "print(\"Valor de mercado do time 1=%.2f\"%df1,\"\\nValor de mercado do time 2=%.2f\"%df2,\n",
        "      \"\\nValor de mercado do time 3=%.2f\"%df3,\"\\nValor de mercado do time 4=%.2f\"%df4,\n",
        "      \"\\nValor de mercado do time 5=%.2f\"%df5)"
      ],
      "metadata": {
        "id": "6ijjM-LUw8X6",
        "outputId": "f24f0f36-0042-4f63-9855-db4d6749da9e",
        "colab": {
          "base_uri": "https://localhost:8080/"
        }
      },
      "execution_count": null,
      "outputs": [
        {
          "output_type": "stream",
          "name": "stdout",
          "text": [
            "Valor de mercado do time 1=1839207.66 \n",
            "Valor de mercado do time 2=1758909.87 \n",
            "Valor de mercado do time 3=2270104.04 \n",
            "Valor de mercado do time 4=2184490.84 \n",
            "Valor de mercado do time 5=2252793.79\n"
          ]
        }
      ]
    }
  ]
}